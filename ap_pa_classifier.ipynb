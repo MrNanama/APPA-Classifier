{
 "cells": [
  {
   "cell_type": "code",
   "execution_count": 124,
   "id": "8ad570dc-aeee-4bf1-8a76-d49afd757a44",
   "metadata": {},
   "outputs": [],
   "source": [
    "import os\n",
    "import torch\n",
    "import pandas as pd\n",
    "#from skimage import io, transform\n",
    "import numpy as np\n",
    "import matplotlib.pyplot as plt\n",
    "from matplotlib import cm\n",
    "from torch.utils.data import Dataset, DataLoader\n",
    "from torchvision import transforms, utils\n",
    "from torchvision.transforms import RandomRotation\n",
    "from torchvision.transforms import v2\n",
    "from PIL import Image\n",
    "import cv2\n",
    "from tqdm import tqdm\n",
    "\n",
    "import time\n",
    "\n",
    "import torch.nn as nn\n",
    "import torch.nn.functional as F\n",
    "import torchvision\n",
    "import lightning as L\n",
    "import pytorch_lightning as pl\n",
    "from torch.optim.lr_scheduler import OneCycleLR\n",
    "from torchmetrics.functional import accuracy\n",
    "import timm\n",
    "import json\n",
    "\n",
    "from torchmetrics.classification import MulticlassAccuracy, MulticlassRecall, MulticlassPrecision, MulticlassF1Score, MulticlassSpecificity\n",
    "from torch.optim.lr_scheduler import ExponentialLR, OneCycleLR\n",
    "\n",
    "from batchgenerators.transforms.abstract_transforms import Compose\n",
    "from batchgenerators.transforms.color_transforms import BrightnessMultiplicativeTransform, \\\n",
    "    ContrastAugmentationTransform, BrightnessTransform, GammaTransform\n",
    "from batchgenerators.transforms.noise_transforms import GaussianNoiseTransform, GaussianBlurTransform\n",
    "from batchgenerators.transforms.resample_transforms import SimulateLowResolutionTransform\n",
    "from batchgenerators.transforms.spatial_transforms import SpatialTransform, MirrorTransform\n",
    "from batchgenerators.transforms.utility_transforms import NumpyToTensor"
   ]
  },
  {
   "cell_type": "code",
   "execution_count": 203,
   "id": "244f4191-ab61-434e-b3e3-6ec5e8dfceba",
   "metadata": {},
   "outputs": [],
   "source": [
    "BATCH_SIZE = 24\n",
    "#TEST_TO_TRAIN_RATIO = 0.2\n",
    "NUM_TEST_SAMPLES = 20000\n",
    "NUM_VALID_SAMPLES = 20000\n",
    "LEARNING_RATE = 0.001\n",
    "NUM_EPOCHS = 1\n",
    "torch.manual_seed(42)\n",
    "\n",
    "device = torch.device(\"cuda:0\" if torch.cuda.is_available() else \"cpu\")"
   ]
  },
  {
   "cell_type": "code",
   "execution_count": 133,
   "id": "c5b17309-01a8-4127-8925-ca3f8e5ac88c",
   "metadata": {},
   "outputs": [],
   "source": [
    "df = pd.read_csv(\"vposition_dataset.csv\")\n",
    "df.rename(columns={\"Unnamed: 0\":\"GlobalId\"}, inplace=True)"
   ]
  },
  {
   "cell_type": "code",
   "execution_count": 134,
   "id": "7583fd44-9545-475f-9af2-7535eb3d20de",
   "metadata": {},
   "outputs": [
    {
     "data": {
      "text/plain": [
       "223397"
      ]
     },
     "execution_count": 134,
     "metadata": {},
     "output_type": "execute_result"
    }
   ],
   "source": [
    "len(df)"
   ]
  },
  {
   "cell_type": "code",
   "execution_count": 135,
   "id": "fe2b9748-94cb-41ae-bc93-edf4f2028023",
   "metadata": {},
   "outputs": [
    {
     "data": {
      "text/html": [
       "<div>\n",
       "<style scoped>\n",
       "    .dataframe tbody tr th:only-of-type {\n",
       "        vertical-align: middle;\n",
       "    }\n",
       "\n",
       "    .dataframe tbody tr th {\n",
       "        vertical-align: top;\n",
       "    }\n",
       "\n",
       "    .dataframe thead th {\n",
       "        text-align: right;\n",
       "    }\n",
       "</style>\n",
       "<table border=\"1\" class=\"dataframe\">\n",
       "  <thead>\n",
       "    <tr style=\"text-align: right;\">\n",
       "      <th></th>\n",
       "      <th>GlobalId</th>\n",
       "      <th>Path</th>\n",
       "      <th>PatientID</th>\n",
       "      <th>Laterality</th>\n",
       "      <th>AP</th>\n",
       "      <th>PA</th>\n",
       "    </tr>\n",
       "  </thead>\n",
       "  <tbody>\n",
       "    <tr>\n",
       "      <th>0</th>\n",
       "      <td>0</td>\n",
       "      <td>CheXpert-v1.0-small/train/patient00001/study1/...</td>\n",
       "      <td>patient00001</td>\n",
       "      <td>0</td>\n",
       "      <td>1</td>\n",
       "      <td>0</td>\n",
       "    </tr>\n",
       "    <tr>\n",
       "      <th>1</th>\n",
       "      <td>1</td>\n",
       "      <td>CheXpert-v1.0-small/train/patient00002/study2/...</td>\n",
       "      <td>patient00002</td>\n",
       "      <td>0</td>\n",
       "      <td>1</td>\n",
       "      <td>0</td>\n",
       "    </tr>\n",
       "    <tr>\n",
       "      <th>2</th>\n",
       "      <td>2</td>\n",
       "      <td>CheXpert-v1.0-small/train/patient00002/study1/...</td>\n",
       "      <td>patient00002</td>\n",
       "      <td>0</td>\n",
       "      <td>1</td>\n",
       "      <td>0</td>\n",
       "    </tr>\n",
       "    <tr>\n",
       "      <th>3</th>\n",
       "      <td>3</td>\n",
       "      <td>CheXpert-v1.0-small/train/patient00002/study1/...</td>\n",
       "      <td>patient00002</td>\n",
       "      <td>1</td>\n",
       "      <td>0</td>\n",
       "      <td>0</td>\n",
       "    </tr>\n",
       "    <tr>\n",
       "      <th>4</th>\n",
       "      <td>4</td>\n",
       "      <td>CheXpert-v1.0-small/train/patient00003/study1/...</td>\n",
       "      <td>patient00003</td>\n",
       "      <td>0</td>\n",
       "      <td>1</td>\n",
       "      <td>0</td>\n",
       "    </tr>\n",
       "  </tbody>\n",
       "</table>\n",
       "</div>"
      ],
      "text/plain": [
       "   GlobalId                                               Path     PatientID  \\\n",
       "0         0  CheXpert-v1.0-small/train/patient00001/study1/...  patient00001   \n",
       "1         1  CheXpert-v1.0-small/train/patient00002/study2/...  patient00002   \n",
       "2         2  CheXpert-v1.0-small/train/patient00002/study1/...  patient00002   \n",
       "3         3  CheXpert-v1.0-small/train/patient00002/study1/...  patient00002   \n",
       "4         4  CheXpert-v1.0-small/train/patient00003/study1/...  patient00003   \n",
       "\n",
       "   Laterality  AP  PA  \n",
       "0           0   1   0  \n",
       "1           0   1   0  \n",
       "2           0   1   0  \n",
       "3           1   0   0  \n",
       "4           0   1   0  "
      ]
     },
     "execution_count": 135,
     "metadata": {},
     "output_type": "execute_result"
    }
   ],
   "source": [
    "df.head()"
   ]
  },
  {
   "cell_type": "code",
   "execution_count": 136,
   "id": "7e508cb6-f1d2-44be-93aa-46ae1093e887",
   "metadata": {},
   "outputs": [],
   "source": [
    "def omit_lateral(df):\n",
    "    omitted_df = df.loc[df[\"Laterality\"]==0]\n",
    "    omitted_df = omitted_df.drop(columns=[\"Laterality\"])\n",
    "    return omitted_df"
   ]
  },
  {
   "cell_type": "code",
   "execution_count": 137,
   "id": "569ddbc6-5f24-40ea-be6f-ec6ff76a0a51",
   "metadata": {},
   "outputs": [],
   "source": [
    "df = omit_lateral(df)"
   ]
  },
  {
   "cell_type": "code",
   "execution_count": 155,
   "id": "57ec825c-9bac-4024-afb9-67115418100d",
   "metadata": {},
   "outputs": [],
   "source": [
    "def split_df_valid_test(df, under_sample=False, limit_class_size=0, valid_size=NUM_VALID_SAMPLES, test_size=NUM_TEST_SAMPLES):\n",
    "    df = df.sample(frac=1, random_state=42)\n",
    "    valid_end_ind = valid_size\n",
    "    valid_df = df[:valid_end_ind].copy(deep=True)\n",
    "    \n",
    "    test_end_ind = valid_end_ind + test_size\n",
    "    test_df = df[valid_end_ind:test_end_ind].copy(deep=True)\n",
    "\n",
    "    train_df = df[test_end_ind:].copy(deep=True)\n",
    "\n",
    "    if under_sample == True:\n",
    "        res = train_df.groupby(\"AP\").apply(lambda x: x.sample(n=min(sum(train_df[\"AP\"]==1),sum(train_df[\"PA\"]==1))))\n",
    "        res = res.sample(frac=1)\n",
    "        res.reset_index(drop=True, inplace=True)\n",
    "        train_df = res\n",
    "\n",
    "    if limit_class_size != 0:\n",
    "        res = train_df.groupby(\"AP\").apply(lambda x: x.sample(n=min(len(x), limit_class_size)))\n",
    "        res = res.sample(frac=1)\n",
    "        res.reset_index(drop=True, inplace=True)\n",
    "        train_df = res\n",
    "\n",
    "    train_df.reset_index(drop=True, inplace=True)\n",
    "    valid_df.reset_index(drop=True, inplace=True)\n",
    "    test_df.reset_index(drop=True, inplace=True)\n",
    "\n",
    "    return train_df, valid_df, test_df"
   ]
  },
  {
   "cell_type": "code",
   "execution_count": 167,
   "id": "33c0e820-5dfe-4305-86f4-ab6191184e65",
   "metadata": {},
   "outputs": [],
   "source": [
    "#train, valid, test \"under\" are where the bigger class was undersampled\n",
    "#train, valid, test \"limit\" are where there was a limit to max num. of instances of the class\n",
    "#train, valid, test \"max\" are where no additional constraints were used and the maximum number of data that can be used in the df was used"
   ]
  },
  {
   "cell_type": "code",
   "execution_count": 156,
   "id": "3e47da2d-7de8-43cc-b012-4a9ddaafb393",
   "metadata": {},
   "outputs": [
    {
     "name": "stderr",
     "output_type": "stream",
     "text": [
      "/tmp/ipykernel_957534/1256907439.py:12: DeprecationWarning: DataFrameGroupBy.apply operated on the grouping columns. This behavior is deprecated, and in a future version of pandas the grouping columns will be excluded from the operation. Either pass `include_groups=False` to exclude the groupings or explicitly select the grouping columns after groupby to silence this warning.\n",
      "  res = train_df.groupby(\"AP\").apply(lambda x: x.sample(n=min(sum(train_df[\"AP\"]==1),sum(train_df[\"PA\"]==1))))\n"
     ]
    }
   ],
   "source": [
    "train_df_under, valid_df_under, test_df_under = split_df_valid_test(df, valid_size=NUM_VALID_SAMPLES, test_size=NUM_TEST_SAMPLES,under_sample=True)\n",
    "train_df_limit, valid_df_limit, test_df_limit = split_df_valid_test(df, valid_size=5000, test_size=NUM_TEST_SAMPLES, limit_class_size=10000)\n",
    "train_df_max, valid_df_max, test_df_max = split_df_valid_test(df, valid_size=NUM_VALID_SAMPLES, test_size=NUM_TEST_SAMPLES)"
   ]
  },
  {
   "cell_type": "code",
   "execution_count": 165,
   "id": "5bd1445d-f764-4379-9097-c496b8a36bfb",
   "metadata": {},
   "outputs": [
    {
     "data": {
      "text/plain": [
       "3084"
      ]
     },
     "execution_count": 165,
     "metadata": {},
     "output_type": "execute_result"
    }
   ],
   "source": [
    "sum(valid_df_max[\"PA\"]==1)"
   ]
  },
  {
   "cell_type": "markdown",
   "id": "63588533-0b99-47fc-8f6b-95a8d3419aef",
   "metadata": {},
   "source": [
    "train_df_under.to_csv(\"appa_train_under.csv\")\n",
    "valid_df_under.to_csv(\"appa_valid_under.csv\")\n",
    "test_df_under.to_csv(\"appa_test_under.csv\")"
   ]
  },
  {
   "cell_type": "markdown",
   "id": "7ab25a59-fa35-43e8-b1c3-f7bad21d71ac",
   "metadata": {},
   "source": [
    "train_df_limit.to_csv(\"appa_train_limit.csv\")\n",
    "valid_df_limit.to_csv(\"appa_valid_limit.csv\")\n",
    "test_df_limit.to_csv(\"appa_test_limit.csv\")"
   ]
  },
  {
   "cell_type": "markdown",
   "id": "6292e384-3083-4bd7-968c-3e32bd854ea3",
   "metadata": {},
   "source": [
    "train_df_max.to_csv(\"appa_train_max.csv\")\n",
    "valid_df_max.to_csv(\"appa_valid_max.csv\")\n",
    "test_df_max.to_csv(\"appa_test_max.csv\")"
   ]
  },
  {
   "cell_type": "code",
   "execution_count": 98,
   "id": "b4295900-0dc4-43f8-b7b9-28e1f5ed7831",
   "metadata": {},
   "outputs": [],
   "source": [
    "train_df_under = pd.read_csv(\"appa_train_under.csv\")\n",
    "valid_df_under = pd.read_csv(\"appa_valid_under.csv\")\n",
    "test_df_under = pd.read_csv(\"appa_test_under.csv\")"
   ]
  },
  {
   "cell_type": "code",
   "execution_count": 146,
   "id": "732863a1-b443-4eb6-9c5a-82827df53077",
   "metadata": {},
   "outputs": [],
   "source": [
    "train_df_limit = pd.read_csv(\"appa_train_limit.csv\")\n",
    "valid_df_limit = pd.read_csv(\"appa_valid_limit.csv\")\n",
    "test_df_limit = pd.read_csv(\"appa_test_limit.csv\")"
   ]
  },
  {
   "cell_type": "code",
   "execution_count": null,
   "id": "2383b42a-3470-42ed-816a-65cb9c3f441d",
   "metadata": {},
   "outputs": [],
   "source": [
    "train_df_max = pd.read_csv(\"appa_train_max.csv\")\n",
    "train_df_max = pd.read_csv(\"appa_train_max.csv\")\n",
    "train_df_max = pd.read_csv(\"appa_train_max.csv\")"
   ]
  },
  {
   "cell_type": "code",
   "execution_count": 147,
   "id": "afff0c74-c39f-4d6d-a0f3-2647bd528e4d",
   "metadata": {},
   "outputs": [],
   "source": [
    "psd_train_df = train_df[:2000]\n",
    "psd_valid_df = valid_df[:2000]\n",
    "psd_test_df = test_df[:2000]"
   ]
  },
  {
   "cell_type": "code",
   "execution_count": 148,
   "id": "67b74c48-a5a3-4e57-871f-79e10e695436",
   "metadata": {},
   "outputs": [],
   "source": [
    "tr_transforms = [\n",
    "    GaussianNoiseTransform( p_per_sample = 0.15, data_key = 'data', noise_variance = (0, 0.1), p_per_channel = 1, per_channel = False ),\n",
    "    GaussianBlurTransform( p_per_sample = 0.2, different_sigma_per_channel = True, p_per_channel = 0.5, data_key = 'data', blur_sigma = (0.5, 1.5), different_sigma_per_axis = False, p_isotropic = 0 ),\n",
    "    BrightnessMultiplicativeTransform( p_per_sample = 0.15, data_key = 'data', multiplier_range = (0.7, 1.3), per_channel = True ),\n",
    "    ContrastAugmentationTransform( p_per_sample = 0.15, data_key = 'data', contrast_range = (0.65, 1.5), preserve_range = True, per_channel = True, p_per_channel = 1 ),\n",
    "    SimulateLowResolutionTransform( order_upsample = 3, order_downsample = 0, channels = None, per_channel = True, p_per_channel = 0.5, p_per_sample = 0.25, data_key = 'data', zoom_range = (0.5, 1), ignore_axes = None ),\n",
    "    GammaTransform( p_per_sample = 0.15, retain_stats = True, per_channel = True, data_key = 'data', gamma_range = (0.5, 1.6), invert_image = True ),\n",
    "    BrightnessTransform( p_per_sample = 0.3, data_key = 'data', mu = 0, sigma = 0.2, per_channel = True, p_per_channel = 1 ),\n",
    "    GammaTransform( p_per_sample = 0.3, retain_stats = True, per_channel = True, data_key = 'data', gamma_range = (0.5, 1.6), invert_image = False ),\n",
    "    MirrorTransform( p_per_sample = 1, data_key = 'data', axes = (0, 1) ),\n",
    "    NumpyToTensor( keys = ['data', 'target'], cast_to = 'float' )]\n",
    "tr_transforms = Compose(tr_transforms)"
   ]
  },
  {
   "cell_type": "code",
   "execution_count": 168,
   "id": "96dab643-9a9a-42c1-b0b9-0d0af0698c0c",
   "metadata": {},
   "outputs": [],
   "source": [
    "class APPAClassifierDataset(Dataset):\n",
    "\n",
    "    #Labeles are in form [Laterality, AP, PA]\n",
    "    def __init__(self, csv_file, root_dir, batch_size=BATCH_SIZE, img_shape=(320,320), transform=None):\n",
    "\n",
    "        self.df = pd.read_csv(csv_file)\n",
    "        self.root_dir = root_dir\n",
    "        self.transform = transform\n",
    "\n",
    "        self.batch_size = batch_size\n",
    "        self.img_shape = img_shape\n",
    "        self.num_samples = len(self.df)\n",
    "\n",
    "\n",
    "    def __len__(self):\n",
    "        return len(self.df)\n",
    "\n",
    "    def get_path_from_index(self, idx):\n",
    "        return self.df.iloc[idx][\"Path\"]\n",
    "    \n",
    "    def get_image_with_idx(self, idx):\n",
    "        #img_path = os.path.join(self.root_dir,\n",
    "        #                        self.df.iloc[idx][\"Path\"])\n",
    "\n",
    "        specific_path = self.df.iloc[idx][\"Path\"]\n",
    "        #omit_train = specific_path[:specific_path.index(\"train/\")]+specific_path[specific_path.index(\"train/\")+6:]\n",
    "        omit_chexpert = specific_path[:specific_path.index(\"CheXpert-v1.0-small/\")]+specific_path[specific_path.index(\"CheXpert-v1.0-small/\")+20:]\n",
    "\n",
    "        img_path = self.root_dir+\"/\"+specific_path\n",
    "\n",
    "        image = Image.open(img_path)\n",
    "        image = np.array(image, dtype=float)\n",
    "        image = (image-np.min(image))/(np.max(image)-np.min(image))\n",
    "        image = cv2.resize(image, self.img_shape)\n",
    "\n",
    "        return image\n",
    "\n",
    "    def util_getitem(self, idx):\n",
    "        if torch.is_tensor(idx):\n",
    "            idx = idx.tolist()\n",
    "\n",
    "        image = self.get_image_with_idx(idx)\n",
    "\n",
    "        #label is in form [Laterality, AP, PA]\n",
    "        label = np.array([self.df.iloc[idx][\"AP\"],self.df.iloc[idx][\"PA\"]])\n",
    "\n",
    "        image = np.array(image)\n",
    "        label = np.array(label)\n",
    "\n",
    "        sample = {'image': image, 'label': label}\n",
    "\n",
    "        #if self.transform:\n",
    "        #    sample = self.transform(sample)\n",
    "        \n",
    "        return sample\n",
    "\n",
    "    def generate_train_batch(self, idx):\n",
    "        # usually you would now select random instances of your data. We only have one therefore we skip this\n",
    "\n",
    "        # Our batch layout must be (b, c, x, y). Let's fix that\n",
    "\n",
    "        #batch_slices = self.get_batch_slices()\n",
    "\n",
    "        start = idx * self.batch_size\n",
    "        end = start + self.batch_size\n",
    "\n",
    "        images = []\n",
    "        labels = []\n",
    "\n",
    "        for i in range(self.batch_size):\n",
    "            sample = self.util_getitem((i+start)%self.num_samples)\n",
    "\n",
    "            images.append(sample[\"image\"])\n",
    "            labels.append(sample[\"label\"])\n",
    "\n",
    "        #for path in batch_slices:\n",
    "        #    img, label = self.get_data(path)\n",
    "        #\n",
    "        #    images.append(img)\n",
    "        #    labels.append(label)\n",
    "\n",
    "        images = np.stack(images, axis=0).astype(\"float32\")\n",
    "        labels = np.array(labels)\n",
    "\n",
    "        # now construct the dictionary and return it. np.float32 cast because most networks take float\n",
    "        return {'data': images, 'target': labels}\n",
    "\n",
    "    def __getitem__(self, idx):\n",
    "\n",
    "        batch = self.generate_train_batch(idx)\n",
    "\n",
    "        batch[\"data\"] = np.expand_dims(batch[\"data\"], axis=1)\n",
    "        #batch[\"target\"] = np.expand_dims(batch[\"target\"], axis=1)\n",
    "\n",
    "        if self.transform:\n",
    "            batch = self.transform(**batch)\n",
    "\n",
    "\n",
    "        #X = batch[\"data\"]\n",
    "        #adc = torch.unsqueeze(X[:,1,...], axis=1)\n",
    "\n",
    "        #data = np.expand_dims(batch[\"data\"], 1)\n",
    "\n",
    "        data = batch[\"data\"]\n",
    "        data = torch.Tensor(data)\n",
    "        target = torch.Tensor(batch[\"target\"]).long()\n",
    "\n",
    "        #print(type(data))\n",
    "        return data, target"
   ]
  },
  {
   "cell_type": "code",
   "execution_count": 169,
   "id": "98ac5837-1a5a-4b01-b185-5064fc81947a",
   "metadata": {},
   "outputs": [],
   "source": [
    "train_set_under = APPAClassifierDataset(\n",
    "    csv_file=\"appa_train_under.csv\",\n",
    "    root_dir=\"chexpert_small\",\n",
    "    batch_size = BATCH_SIZE,\n",
    "    img_shape=(320,320),\n",
    "    transform=tr_transforms\n",
    ")\n",
    "\n",
    "valid_set_under = APPAClassifierDataset(\n",
    "    csv_file=\"appa_valid_under.csv\",\n",
    "    root_dir=\"chexpert_small\",\n",
    "    batch_size = BATCH_SIZE,\n",
    "    img_shape=(320,320)\n",
    ")\n",
    "\n",
    "test_set_under = APPAClassifierDataset(\n",
    "    csv_file=\"appa_test_under.csv\",\n",
    "    root_dir=\"chexpert_small\",\n",
    "    batch_size = BATCH_SIZE,\n",
    "    img_shape=(320,320)\n",
    ")"
   ]
  },
  {
   "cell_type": "code",
   "execution_count": 170,
   "id": "88630463-a820-4c2d-9510-0a526458db79",
   "metadata": {},
   "outputs": [],
   "source": [
    "train_set_limit = APPAClassifierDataset(\n",
    "    csv_file=\"appa_train_limit.csv\",\n",
    "    root_dir=\"chexpert_small\",\n",
    "    batch_size = BATCH_SIZE,\n",
    "    img_shape=(320,320),\n",
    "    transform=tr_transforms\n",
    ")\n",
    "\n",
    "valid_set_limit = APPAClassifierDataset(\n",
    "    csv_file=\"appa_valid_limit.csv\",\n",
    "    root_dir=\"chexpert_small\",\n",
    "    batch_size = BATCH_SIZE,\n",
    "    img_shape=(320,320)\n",
    ")\n",
    "\n",
    "test_set_limit = APPAClassifierDataset(\n",
    "    csv_file=\"appa_test_limit.csv\",\n",
    "    root_dir=\"chexpert_small\",\n",
    "    batch_size = BATCH_SIZE,\n",
    "    img_shape=(320,320)\n",
    ")"
   ]
  },
  {
   "cell_type": "code",
   "execution_count": 171,
   "id": "d62c11a0-c131-4bb5-988d-9eb3a281e9de",
   "metadata": {},
   "outputs": [],
   "source": [
    "train_set_max = APPAClassifierDataset(\n",
    "    csv_file=\"appa_train_max.csv\",\n",
    "    root_dir=\"chexpert_small\",\n",
    "    batch_size = BATCH_SIZE,\n",
    "    img_shape=(320,320),\n",
    "    transform=tr_transforms\n",
    ")\n",
    "\n",
    "valid_set_max = APPAClassifierDataset(\n",
    "    csv_file=\"appa_valid_max.csv\",\n",
    "    root_dir=\"chexpert_small\",\n",
    "    batch_size = BATCH_SIZE,\n",
    "    img_shape=(320,320)\n",
    ")\n",
    "\n",
    "test_set_max = APPAClassifierDataset(\n",
    "    csv_file=\"appa_test_max.csv\",\n",
    "    root_dir=\"chexpert_small\",\n",
    "    batch_size = BATCH_SIZE,\n",
    "    img_shape=(320,320)\n",
    ")"
   ]
  },
  {
   "cell_type": "code",
   "execution_count": 182,
   "id": "9a62d032-758f-4778-9959-2c68f8adfb0d",
   "metadata": {},
   "outputs": [],
   "source": [
    "train_loader_under = DataLoader(dataset=train_set_under, batch_size=None, shuffle=True, num_workers=0) #persistent_workers=True)\n",
    "test_loader_under = DataLoader(dataset=test_set_under, batch_size=None, shuffle=True, num_workers=0) #persistent_workers=True)\n",
    "valid_loader_under = DataLoader(dataset=valid_set_under, batch_size=None, shuffle=True, num_workers=0) #persistent_workers=True)"
   ]
  },
  {
   "cell_type": "code",
   "execution_count": 183,
   "id": "4f0ed052-41d9-4c64-8c0a-369ece5c3aa9",
   "metadata": {},
   "outputs": [],
   "source": [
    "train_loader_limit = DataLoader(dataset=train_set_limit, batch_size=None, shuffle=True, num_workers=0) #persistent_workers=True)\n",
    "test_loader_limit = DataLoader(dataset=test_set_limit, batch_size=None, shuffle=True, num_workers=0) #persistent_workers=True)\n",
    "valid_loader_limit = DataLoader(dataset=valid_set_limit, batch_size=None, shuffle=True, num_workers=0) #persistent_workers=True)"
   ]
  },
  {
   "cell_type": "code",
   "execution_count": 184,
   "id": "33725ebb-070f-4fe3-b41d-24d4cd659725",
   "metadata": {},
   "outputs": [],
   "source": [
    "train_loader_max = DataLoader(dataset=train_set_max, batch_size=None, shuffle=True, num_workers=0) #persistent_workers=True)\n",
    "test_loader_max = DataLoader(dataset=test_set_max, batch_size=None, shuffle=True, num_workers=0) #persistent_workers=True)\n",
    "valid_loader_max = DataLoader(dataset=valid_set_max, batch_size=None, shuffle=True, num_workers=0) #persistent_workers=True)"
   ]
  },
  {
   "cell_type": "code",
   "execution_count": 186,
   "id": "8950605f-5a08-4e08-8850-446edd9e3dc6",
   "metadata": {},
   "outputs": [
    {
     "name": "stdout",
     "output_type": "stream",
     "text": [
      "torch.Size([24, 1, 320, 320])\n",
      "torch.Size([24, 2])\n"
     ]
    }
   ],
   "source": [
    "for batch in train_loader_under:\n",
    "    x = batch[0]\n",
    "    y = batch[1]\n",
    "\n",
    "    print(x.shape)\n",
    "    print(y.shape)\n",
    "    \n",
    "    break"
   ]
  },
  {
   "cell_type": "code",
   "execution_count": 189,
   "id": "3c53ff90-3f0f-4f6f-abb9-008150ded6ea",
   "metadata": {},
   "outputs": [
    {
     "name": "stdout",
     "output_type": "stream",
     "text": [
      "46458\n",
      "20000\n",
      "20000\n",
      "20000\n",
      "5000\n",
      "20000\n",
      "151010\n",
      "20000\n",
      "20000\n"
     ]
    }
   ],
   "source": [
    "print(len(train_loader_under))\n",
    "print(len(valid_loader_under))\n",
    "print(len(test_loader_under))\n",
    "\n",
    "print(len(train_loader_limit))\n",
    "print(len(valid_loader_limit))\n",
    "print(len(test_loader_limit))\n",
    "\n",
    "print(len(train_loader_max))\n",
    "print(len(valid_loader_max))\n",
    "print(len(test_loader_max))"
   ]
  },
  {
   "cell_type": "code",
   "execution_count": 190,
   "id": "1d41778e-acd0-43c8-808b-82c83c17246c",
   "metadata": {},
   "outputs": [
    {
     "data": {
      "text/plain": [
       "<matplotlib.colorbar.Colorbar at 0x7f24c39f0c10>"
      ]
     },
     "execution_count": 190,
     "metadata": {},
     "output_type": "execute_result"
    },
    {
     "data": {
      "image/png": "[encoded data removed]",
      "text/plain": [
       "<Figure size 640x480 with 2 Axes>"
      ]
     },
     "metadata": {},
     "output_type": "display_data"
    }
   ],
   "source": [
    "my_iter = iter(test_loader_max)\n",
    "sample = next(my_iter)\n",
    "im = plt.imshow(sample[0][0][0].numpy(), cmap='grey', interpolation='none')\n",
    "plt.colorbar(im)"
   ]
  },
  {
   "cell_type": "code",
   "execution_count": 237,
   "id": "e832ce2f-9131-49f4-8412-f31edfc50209",
   "metadata": {},
   "outputs": [],
   "source": [
    "class APPAModel(pl.LightningModule):\n",
    "    def __init__(self, name = \"appa-model\"):\n",
    "        super().__init__()\n",
    "        #self.model = torchvision.models.resnet50(pretrained= True)\n",
    "        self.model = timm.create_model(\"resnetv2_50\", pretrained=True, num_classes=2, in_chans=1)\n",
    "        #self.model = timm.create_model('efficientnetv2_rw_s', pretrained=True, num_classes=3, in_chans=1)\n",
    "        self.batch_size = BATCH_SIZE\n",
    "\n",
    "        self.name = name\n",
    "        \n",
    "        self.save_hyperparameters()\n",
    "        self.train_metrics = []\n",
    "        self.val_metrics = []\n",
    "        self.test_metrics = []\n",
    "        \n",
    "        #class_weights = np.array([2,1,3], dtype=float)\n",
    "        #class_weights = class_weights*len(class_weights)/sum(class_weights)\n",
    "        self.loss_fn = torch.nn.CrossEntropyLoss()\n",
    "        #self.loss_fn = torch.nn.CrossEntropyLoss()\n",
    "\n",
    "        \n",
    "        self.metric_accuracy = MulticlassAccuracy(num_classes=2, average=None).to(device)\n",
    "\n",
    "        self.metric_precision = MulticlassPrecision(num_classes=2, average=None).to(device)\n",
    "\n",
    "        self.metric_recall = MulticlassRecall(num_classes=2, average=None).to(device)\n",
    "\n",
    "        self.metric_f1 = MulticlassF1Score(num_classes=2, average=None).to(device)\n",
    "\n",
    "        self.metric_specificity = MulticlassSpecificity(num_classes=2, average=None).to(device)\n",
    "\n",
    "    def forward(self, x):\n",
    "        return self.model(x)\n",
    "\n",
    "    def training_step(self, batch, batch_idx):\n",
    "        \n",
    "        x, y = batch\n",
    "        logits = self(x)\n",
    "\n",
    "        logits = logits.float()\n",
    "        y = y.float()\n",
    "\n",
    "        loss = self.loss_fn(np.squeeze(logits, axis=1), y)\n",
    "\n",
    "        self.update_metrics(preds=np.squeeze(logits, axis=1), targets=np.argmax(y.cpu(), axis=1).to(device))\n",
    "\n",
    "        self.log('train_loss', loss)\n",
    "        self.log_metrics('train')\n",
    "        return loss\n",
    "\n",
    "    def evaluate(self, batch, stage=None):\n",
    "        x, y = batch\n",
    "\n",
    "        logits = self(x)\n",
    "\n",
    "        logits = logits.float()\n",
    "        y = y.float()\n",
    "\n",
    "        loss = self.loss_fn(np.squeeze(logits,axis=1), y.float())\n",
    "\n",
    "        self.update_metrics(preds=np.squeeze(logits,axis=1), targets=np.argmax(y.cpu(), axis=1).to(device))\n",
    "\n",
    "        if stage:\n",
    "            self.log(f'{stage}_loss', loss)\n",
    "            self.log_metrics(stage)\n",
    "\n",
    "    def test_step_ignore(self, batch, batch_idx):\n",
    "        x, y = batch\n",
    "\n",
    "        logits = self(x).float()\n",
    "        y = y.float()\n",
    "        \n",
    "        loss = self.loss_fn(np.squeeze(logits,axis=1), y.float())\n",
    "\n",
    "        self.update_metrics(preds=np.squeeze(logits,axis=1), targets=y)\n",
    "\n",
    "        self.test_accuracy\n",
    "        self.test_precision\n",
    "        self.test_recall\n",
    "        self.test_f1\n",
    "        self.test_specificity\n",
    "        \n",
    "        self.log_dict({'test_loss': loss, 'test_acc': self.test_accuracy,\n",
    "                      \"test_precision\":self.test_precision, \"test_recall\":self.test_recall,\n",
    "                       \"test_f1\":self.test_f1, \"test_specificity\":self.test_specificity})\n",
    "\n",
    "    def on_test_start(self):\n",
    "        self.reset_metrics()\n",
    "\n",
    "    def test_step(self, batch, batch_idx):\n",
    "        self.evaluate(batch, \"test\")\n",
    "    \n",
    "    def validation_step(self, batch, batch_idx):\n",
    "        self.evaluate(batch, stage='val')\n",
    "\n",
    "    def on_validation_epoch_start(self):\n",
    "        keys = [\"AP\",\"PA\"]\n",
    "        self.train_metrics.append({'Epoch': self.current_epoch,\n",
    "                                    'Metrics':\n",
    "                                        {'Accuracy': dict(zip(keys, self.accuracy.tolist())),\n",
    "                                        'Precision': dict(zip(keys, self.precision.tolist())),\n",
    "                                        'Recall': dict(zip(keys, self.recall.tolist())),\n",
    "                                        'F1': dict(zip(keys, self.f1.tolist())),\n",
    "                                        'Specificity': dict(zip(keys, self.specificity.tolist()))}})\n",
    "\n",
    "        with open(f\"config_files/train_metrics_{self.name}.json\", 'w') as f:\n",
    "            json.dump(self.train_metrics, f)\n",
    "\n",
    "        self.metric_accuracy.reset()\n",
    "        self.metric_precision.reset()\n",
    "        self.metric_recall.reset()\n",
    "        self.metric_f1.reset()\n",
    "        self.metric_specificity.reset()\n",
    "\n",
    "    def on_validation_epoch_end(self):\n",
    "        keys = [\"AP\",\"PA\"]\n",
    "        self.val_metrics.append({'Epoch': self.current_epoch,\n",
    "                                 'Metrics':\n",
    "                                     {'Accuracy': dict(zip(keys,self.accuracy.tolist())),\n",
    "                                      'Precision': dict(zip(keys,self.precision.tolist())),\n",
    "                                      'Recall': dict(zip(keys,self.recall.tolist())),\n",
    "                                      'F1': dict(zip(keys,self.f1.tolist())),\n",
    "                                      'Specificity': dict(zip(keys,self.specificity.tolist()))}})\n",
    "\n",
    "        with open(f\"config_files/val_metrics_{self.name}.json\", 'w') as f:\n",
    "            json.dump(self.train_metrics, f)\n",
    "\n",
    "        self.metric_accuracy.reset()\n",
    "        self.metric_precision.reset()\n",
    "        self.metric_recall.reset()\n",
    "        self.metric_f1.reset()\n",
    "        self.metric_specificity.reset()\n",
    "\n",
    "    def configure_optimizers(self):\n",
    "        optimizer = torch.optim.SGD(\n",
    "            self.parameters(),\n",
    "            lr= LEARNING_RATE,\n",
    "            momentum=0.9,\n",
    "            weight_decay=5e-4,\n",
    "        )\n",
    "        \n",
    "        steps_per_epoch = 45000 // self.batch_size\n",
    "        scheduler_dict = {\n",
    "            \"scheduler\": OneCycleLR(\n",
    "                optimizer,\n",
    "                0.1,\n",
    "                epochs=self.trainer.max_epochs,\n",
    "                steps_per_epoch=self.trainer.limit_train_batches,\n",
    "            ),\n",
    "            \"interval\": \"step\",\n",
    "        }\n",
    "        return {\"optimizer\": optimizer, \"lr_scheduler\": scheduler_dict}\n",
    "\n",
    "    def reset_metrics(self):\n",
    "        self.metric_accuracy.reset()\n",
    "        self.metric_precision.reset()\n",
    "        self.metric_recall.reset()\n",
    "        self.metric_f1.reset()\n",
    "        self.metric_specificity.reset()\n",
    "    \n",
    "    def update_metrics(self, preds, targets):\n",
    "        self.metric_accuracy.update(preds, targets)\n",
    "        self.metric_precision.update(preds, targets)\n",
    "        self.metric_recall.update(preds, targets)\n",
    "        self.metric_f1.update(preds, targets)\n",
    "        self.metric_specificity.update(preds, targets)\n",
    "\n",
    "\n",
    "    def log_metrics(self, stage=None):\n",
    "        accuracy = self.metric_accuracy.compute()\n",
    "        precision = self.metric_precision.compute()\n",
    "        recall = self.metric_recall.compute()\n",
    "        f1 = self.metric_f1.compute()\n",
    "        specificity = self.metric_specificity.compute()\n",
    "\n",
    "        self.accuracy = accuracy\n",
    "        self.precision = precision\n",
    "        self.recall = recall\n",
    "        self.f1 = f1\n",
    "        self.specificity = specificity\n",
    "\n",
    "        self.log(f'{stage}_accuracy_APPA', accuracy.mean())\n",
    "        self.log(f'{stage}_precision_APPA', precision.mean())\n",
    "        self.log(f'{stage}_recall_APPA', recall.mean())\n",
    "        self.log(f'{stage}_f1_APPA', f1.mean())\n",
    "        self.log(f'{stage}_specificity_APPA', specificity.mean())\n"
   ]
  },
  {
   "cell_type": "code",
   "execution_count": 238,
   "id": "96de7178-1cd4-4534-8d10-ef1563fddc09",
   "metadata": {},
   "outputs": [],
   "source": [
    "appa_model_under = APPAModel(name=\"under\")\n",
    "appa_model_limit = APPAModel(name=\"limit\")\n",
    "appa_model_max = APPAModel(name=\"max\")"
   ]
  },
  {
   "cell_type": "code",
   "execution_count": 239,
   "id": "58337ab3-1f64-44aa-aa4c-b0c34201c660",
   "metadata": {},
   "outputs": [],
   "source": [
    "from pytorch_lightning.callbacks import ModelCheckpoint\n",
    "\n",
    "checkpoint_callback_under = ModelCheckpoint(\n",
    "     monitor='val_loss',\n",
    "     dirpath=\"model-checkpointing\",\n",
    "     filename='appa_under-{epoch:02d}-{val_loss:.2f}'\n",
    ")\n",
    "\n",
    "checkpoint_callback_limit = ModelCheckpoint(\n",
    "     monitor='val_loss',\n",
    "     dirpath=\"model-checkpointing\",\n",
    "     filename='appa_limit-{epoch:02d}-{val_loss:.2f}'\n",
    ")\n",
    "\n",
    "checkpoint_callback_max = ModelCheckpoint(\n",
    "     monitor='val_loss',\n",
    "     dirpath=\"model-checkpointing\",\n",
    "     filename='appa_max-{epoch:02d}-{val_loss:.2f}'\n",
    ")\n"
   ]
  },
  {
   "cell_type": "code",
   "execution_count": 248,
   "id": "df23b5c0-f559-4070-8a6a-82514250ee13",
   "metadata": {},
   "outputs": [
    {
     "name": "stderr",
     "output_type": "stream",
     "text": [
      "GPU available: True (cuda), used: True\n",
      "TPU available: False, using: 0 TPU cores\n",
      "HPU available: False, using: 0 HPUs\n",
      "GPU available: True (cuda), used: True\n",
      "TPU available: False, using: 0 TPU cores\n",
      "HPU available: False, using: 0 HPUs\n",
      "GPU available: True (cuda), used: True\n",
      "TPU available: False, using: 0 TPU cores\n",
      "HPU available: False, using: 0 HPUs\n"
     ]
    }
   ],
   "source": [
    "import tensorboard\n",
    "import tensorboardX\n",
    "from pytorch_lightning.loggers import TensorBoardLogger\n",
    "\n",
    "trainer_under = pl.Trainer(logger=TensorBoardLogger(save_dir=\"logs_under/\"), \n",
    "                     max_epochs=NUM_EPOCHS, \n",
    "                     num_sanity_val_steps=0,\n",
    "                     limit_train_batches=len(train_set_under)//BATCH_SIZE,\n",
    "                     limit_val_batches=len(valid_set_under)//BATCH_SIZE,\n",
    "                     callbacks=[checkpoint_callback_under]\n",
    "                    )\n",
    "\n",
    "trainer_limit = pl.Trainer(logger=TensorBoardLogger(save_dir=\"logs_limit/\"), \n",
    "                     max_epochs=NUM_EPOCHS, \n",
    "                     num_sanity_val_steps=0,\n",
    "                     limit_train_batches=len(train_set_limit)//BATCH_SIZE,\n",
    "                     limit_val_batches=len(valid_set_limit)//BATCH_SIZE,\n",
    "                     callbacks=[checkpoint_callback_limit]\n",
    "                    )\n",
    "\n",
    "trainer_max = pl.Trainer(logger=TensorBoardLogger(save_dir=\"logs_max/\"), \n",
    "                     max_epochs=NUM_EPOCHS, \n",
    "                     num_sanity_val_steps=0,\n",
    "                     limit_train_batches=len(train_set_max)//BATCH_SIZE,\n",
    "                     limit_val_batches=len(valid_set_max)//BATCH_SIZE,\n",
    "                     callbacks=[checkpoint_callback_max]\n",
    "                    )"
   ]
  },
  {
   "cell_type": "code",
   "execution_count": 249,
   "id": "08a68b72-3624-4b3f-b567-c1bf96d2185c",
   "metadata": {},
   "outputs": [
    {
     "name": "stderr",
     "output_type": "stream",
     "text": [
      "LOCAL_RANK: 0 - CUDA_VISIBLE_DEVICES: [0]\n",
      "\n",
      "  | Name               | Type                  | Params | Mode \n",
      "---------------------------------------------------------------------\n",
      "0 | model              | ResNetV2              | 23.5 M | train\n",
      "1 | loss_fn            | CrossEntropyLoss      | 0      | train\n",
      "2 | metric_accuracy    | MulticlassAccuracy    | 0      | train\n",
      "3 | metric_precision   | MulticlassPrecision   | 0      | train\n",
      "4 | metric_recall      | MulticlassRecall      | 0      | train\n",
      "5 | metric_f1          | MulticlassF1Score     | 0      | train\n",
      "6 | metric_specificity | MulticlassSpecificity | 0      | train\n",
      "---------------------------------------------------------------------\n",
      "23.5 M    Trainable params\n",
      "0         Non-trainable params\n",
      "23.5 M    Total params\n",
      "93.993    Total estimated model params size (MB)\n"
     ]
    },
    {
     "data": {
      "application/vnd.jupyter.widget-view+json": {
       "model_id": "438533a9384e4540b16b374134a45f30",
       "version_major": 2,
       "version_minor": 0
      },
      "text/plain": [
       "Training: |          | 0/? [00:00<?, ?it/s]"
      ]
     },
     "metadata": {},
     "output_type": "display_data"
    },
    {
     "name": "stderr",
     "output_type": "stream",
     "text": [
      "LOCAL_RANK: 0 - CUDA_VISIBLE_DEVICES: [0]\n",
      "\n",
      "  | Name               | Type                  | Params | Mode \n",
      "---------------------------------------------------------------------\n",
      "0 | model              | ResNetV2              | 23.5 M | train\n",
      "1 | loss_fn            | CrossEntropyLoss      | 0      | train\n",
      "2 | metric_accuracy    | MulticlassAccuracy    | 0      | train\n",
      "3 | metric_precision   | MulticlassPrecision   | 0      | train\n",
      "4 | metric_recall      | MulticlassRecall      | 0      | train\n",
      "5 | metric_f1          | MulticlassF1Score     | 0      | train\n",
      "6 | metric_specificity | MulticlassSpecificity | 0      | train\n",
      "---------------------------------------------------------------------\n",
      "23.5 M    Trainable params\n",
      "0         Non-trainable params\n",
      "23.5 M    Total params\n",
      "93.993    Total estimated model params size (MB)\n"
     ]
    },
    {
     "data": {
      "application/vnd.jupyter.widget-view+json": {
       "model_id": "07e6557341de4c7c8d22b9542f7f9749",
       "version_major": 2,
       "version_minor": 0
      },
      "text/plain": [
       "Training: |          | 0/? [00:00<?, ?it/s]"
      ]
     },
     "metadata": {},
     "output_type": "display_data"
    },
    {
     "ename": "KeyboardInterrupt",
     "evalue": "",
     "output_type": "error",
     "traceback": [
      "\u001b[0;31m---------------------------------------------------------------------------\u001b[0m",
      "\u001b[0;31mKeyboardInterrupt\u001b[0m                         Traceback (most recent call last)",
      "Cell \u001b[0;32mIn[249], line 5\u001b[0m\n\u001b[1;32m      2\u001b[0m torch\u001b[38;5;241m.\u001b[39msave(appa_model_limit, \u001b[38;5;124m\"\u001b[39m\u001b[38;5;124msave/appa-limit.pt\u001b[39m\u001b[38;5;124m\"\u001b[39m)\n\u001b[1;32m      4\u001b[0m trainer_under\u001b[38;5;241m.\u001b[39mfit(appa_model_under, train_loader_under, valid_loader_under)\n\u001b[0;32m----> 5\u001b[0m \u001b[43mtorch\u001b[49m\u001b[38;5;241;43m.\u001b[39;49m\u001b[43msave\u001b[49m\u001b[43m(\u001b[49m\u001b[43mappa_model_under\u001b[49m\u001b[43m,\u001b[49m\u001b[38;5;124;43m\"\u001b[39;49m\u001b[38;5;124;43msave/appa-under.pt\u001b[39;49m\u001b[38;5;124;43m\"\u001b[39;49m\u001b[43m)\u001b[49m\n\u001b[1;32m      7\u001b[0m trainer_max\u001b[38;5;241m.\u001b[39mfit(appa_model_max, train_loader_max, valid_loader_max)\n\u001b[1;32m      8\u001b[0m torch\u001b[38;5;241m.\u001b[39msave(appa_model_max, \u001b[38;5;124m\"\u001b[39m\u001b[38;5;124msave/appa-max.pt\u001b[39m\u001b[38;5;124m\"\u001b[39m)\n",
      "File \u001b[0;32m/opt/conda/lib/python3.11/site-packages/torch/serialization.py:628\u001b[0m, in \u001b[0;36msave\u001b[0;34m(obj, f, pickle_module, pickle_protocol, _use_new_zipfile_serialization, _disable_byteorder_record)\u001b[0m\n\u001b[1;32m    625\u001b[0m _check_save_filelike(f)\n\u001b[1;32m    627\u001b[0m \u001b[38;5;28;01mif\u001b[39;00m _use_new_zipfile_serialization:\n\u001b[0;32m--> 628\u001b[0m \u001b[43m    \u001b[49m\u001b[38;5;28;43;01mwith\u001b[39;49;00m\u001b[43m \u001b[49m\u001b[43m_open_zipfile_writer\u001b[49m\u001b[43m(\u001b[49m\u001b[43mf\u001b[49m\u001b[43m)\u001b[49m\u001b[43m \u001b[49m\u001b[38;5;28;43;01mas\u001b[39;49;00m\u001b[43m \u001b[49m\u001b[43mopened_zipfile\u001b[49m\u001b[43m:\u001b[49m\n\u001b[1;32m    629\u001b[0m \u001b[43m        \u001b[49m\u001b[43m_save\u001b[49m\u001b[43m(\u001b[49m\u001b[43mobj\u001b[49m\u001b[43m,\u001b[49m\u001b[43m \u001b[49m\u001b[43mopened_zipfile\u001b[49m\u001b[43m,\u001b[49m\u001b[43m \u001b[49m\u001b[43mpickle_module\u001b[49m\u001b[43m,\u001b[49m\u001b[43m \u001b[49m\u001b[43mpickle_protocol\u001b[49m\u001b[43m,\u001b[49m\u001b[43m \u001b[49m\u001b[43m_disable_byteorder_record\u001b[49m\u001b[43m)\u001b[49m\n\u001b[1;32m    630\u001b[0m \u001b[43m        \u001b[49m\u001b[38;5;28;43;01mreturn\u001b[39;49;00m\n",
      "File \u001b[0;32m/opt/conda/lib/python3.11/site-packages/torch/serialization.py:476\u001b[0m, in \u001b[0;36m_open_zipfile_writer_file.__exit__\u001b[0;34m(self, *args)\u001b[0m\n\u001b[1;32m    475\u001b[0m \u001b[38;5;28;01mdef\u001b[39;00m \u001b[38;5;21m__exit__\u001b[39m(\u001b[38;5;28mself\u001b[39m, \u001b[38;5;241m*\u001b[39margs) \u001b[38;5;241m-\u001b[39m\u001b[38;5;241m>\u001b[39m \u001b[38;5;28;01mNone\u001b[39;00m:\n\u001b[0;32m--> 476\u001b[0m     \u001b[38;5;28;43mself\u001b[39;49m\u001b[38;5;241;43m.\u001b[39;49m\u001b[43mfile_like\u001b[49m\u001b[38;5;241;43m.\u001b[39;49m\u001b[43mwrite_end_of_file\u001b[49m\u001b[43m(\u001b[49m\u001b[43m)\u001b[49m\n\u001b[1;32m    477\u001b[0m     \u001b[38;5;28;01mif\u001b[39;00m \u001b[38;5;28mself\u001b[39m\u001b[38;5;241m.\u001b[39mfile_stream \u001b[38;5;129;01mis\u001b[39;00m \u001b[38;5;129;01mnot\u001b[39;00m \u001b[38;5;28;01mNone\u001b[39;00m:\n\u001b[1;32m    478\u001b[0m         \u001b[38;5;28mself\u001b[39m\u001b[38;5;241m.\u001b[39mfile_stream\u001b[38;5;241m.\u001b[39mclose()\n",
      "\u001b[0;31mKeyboardInterrupt\u001b[0m: "
     ]
    }
   ],
   "source": [
    "trainer_limit.fit(appa_model_limit, train_loader_limit, valid_loader_limit)\n",
    "torch.save(appa_model_limit, \"save/appa-limit.pt\")\n",
    "\n",
    "trainer_under.fit(appa_model_under, train_loader_under, valid_loader_under)\n",
    "torch.save(appa_model_under,\"save/appa-under.pt\")\n",
    "\n",
    "trainer_max.fit(appa_model_max, train_loader_max, valid_loader_max)\n",
    "torch.save(appa_model_max, \"save/appa-max.pt\")"
   ]
  },
  {
   "cell_type": "code",
   "execution_count": 252,
   "id": "177c315f-7c9d-4d36-985a-8cf2c8c2d371",
   "metadata": {},
   "outputs": [
    {
     "name": "stderr",
     "output_type": "stream",
     "text": [
      "LOCAL_RANK: 0 - CUDA_VISIBLE_DEVICES: [0]\n",
      "\n",
      "  | Name               | Type                  | Params | Mode \n",
      "---------------------------------------------------------------------\n",
      "0 | model              | ResNetV2              | 23.5 M | train\n",
      "1 | loss_fn            | CrossEntropyLoss      | 0      | train\n",
      "2 | metric_accuracy    | MulticlassAccuracy    | 0      | train\n",
      "3 | metric_precision   | MulticlassPrecision   | 0      | train\n",
      "4 | metric_recall      | MulticlassRecall      | 0      | train\n",
      "5 | metric_f1          | MulticlassF1Score     | 0      | train\n",
      "6 | metric_specificity | MulticlassSpecificity | 0      | train\n",
      "---------------------------------------------------------------------\n",
      "23.5 M    Trainable params\n",
      "0         Non-trainable params\n",
      "23.5 M    Total params\n",
      "93.993    Total estimated model params size (MB)\n"
     ]
    },
    {
     "data": {
      "application/vnd.jupyter.widget-view+json": {
       "model_id": "3c8fbb18b15a4b0bbf4a827f0a9f5dce",
       "version_major": 2,
       "version_minor": 0
      },
      "text/plain": [
       "Training: |          | 0/? [00:00<?, ?it/s]"
      ]
     },
     "metadata": {},
     "output_type": "display_data"
    },
    {
     "data": {
      "application/vnd.jupyter.widget-view+json": {
       "model_id": "dda2a6a12f764766aeda17925edea90a",
       "version_major": 2,
       "version_minor": 0
      },
      "text/plain": [
       "Validation: |          | 0/? [00:00<?, ?it/s]"
      ]
     },
     "metadata": {},
     "output_type": "display_data"
    },
    {
     "ename": "KeyboardInterrupt",
     "evalue": "",
     "output_type": "error",
     "traceback": [
      "\u001b[0;31m---------------------------------------------------------------------------\u001b[0m",
      "\u001b[0;31mKeyboardInterrupt\u001b[0m                         Traceback (most recent call last)",
      "Cell \u001b[0;32mIn[252], line 2\u001b[0m\n\u001b[1;32m      1\u001b[0m trainer_under\u001b[38;5;241m.\u001b[39mfit(appa_model_under, train_loader_under, valid_loader_under)\n\u001b[0;32m----> 2\u001b[0m \u001b[43mtorch\u001b[49m\u001b[38;5;241;43m.\u001b[39;49m\u001b[43msave\u001b[49m\u001b[43m(\u001b[49m\u001b[43mappa_model_under\u001b[49m\u001b[43m,\u001b[49m\u001b[38;5;124;43m\"\u001b[39;49m\u001b[38;5;124;43msave/appa-under.pt\u001b[39;49m\u001b[38;5;124;43m\"\u001b[39;49m\u001b[43m)\u001b[49m\n",
      "File \u001b[0;32m/opt/conda/lib/python3.11/site-packages/torch/serialization.py:628\u001b[0m, in \u001b[0;36msave\u001b[0;34m(obj, f, pickle_module, pickle_protocol, _use_new_zipfile_serialization, _disable_byteorder_record)\u001b[0m\n\u001b[1;32m    625\u001b[0m _check_save_filelike(f)\n\u001b[1;32m    627\u001b[0m \u001b[38;5;28;01mif\u001b[39;00m _use_new_zipfile_serialization:\n\u001b[0;32m--> 628\u001b[0m \u001b[43m    \u001b[49m\u001b[38;5;28;43;01mwith\u001b[39;49;00m\u001b[43m \u001b[49m\u001b[43m_open_zipfile_writer\u001b[49m\u001b[43m(\u001b[49m\u001b[43mf\u001b[49m\u001b[43m)\u001b[49m\u001b[43m \u001b[49m\u001b[38;5;28;43;01mas\u001b[39;49;00m\u001b[43m \u001b[49m\u001b[43mopened_zipfile\u001b[49m\u001b[43m:\u001b[49m\n\u001b[1;32m    629\u001b[0m \u001b[43m        \u001b[49m\u001b[43m_save\u001b[49m\u001b[43m(\u001b[49m\u001b[43mobj\u001b[49m\u001b[43m,\u001b[49m\u001b[43m \u001b[49m\u001b[43mopened_zipfile\u001b[49m\u001b[43m,\u001b[49m\u001b[43m \u001b[49m\u001b[43mpickle_module\u001b[49m\u001b[43m,\u001b[49m\u001b[43m \u001b[49m\u001b[43mpickle_protocol\u001b[49m\u001b[43m,\u001b[49m\u001b[43m \u001b[49m\u001b[43m_disable_byteorder_record\u001b[49m\u001b[43m)\u001b[49m\n\u001b[1;32m    630\u001b[0m \u001b[43m        \u001b[49m\u001b[38;5;28;43;01mreturn\u001b[39;49;00m\n",
      "File \u001b[0;32m/opt/conda/lib/python3.11/site-packages/torch/serialization.py:476\u001b[0m, in \u001b[0;36m_open_zipfile_writer_file.__exit__\u001b[0;34m(self, *args)\u001b[0m\n\u001b[1;32m    475\u001b[0m \u001b[38;5;28;01mdef\u001b[39;00m \u001b[38;5;21m__exit__\u001b[39m(\u001b[38;5;28mself\u001b[39m, \u001b[38;5;241m*\u001b[39margs) \u001b[38;5;241m-\u001b[39m\u001b[38;5;241m>\u001b[39m \u001b[38;5;28;01mNone\u001b[39;00m:\n\u001b[0;32m--> 476\u001b[0m     \u001b[38;5;28;43mself\u001b[39;49m\u001b[38;5;241;43m.\u001b[39;49m\u001b[43mfile_like\u001b[49m\u001b[38;5;241;43m.\u001b[39;49m\u001b[43mwrite_end_of_file\u001b[49m\u001b[43m(\u001b[49m\u001b[43m)\u001b[49m\n\u001b[1;32m    477\u001b[0m     \u001b[38;5;28;01mif\u001b[39;00m \u001b[38;5;28mself\u001b[39m\u001b[38;5;241m.\u001b[39mfile_stream \u001b[38;5;129;01mis\u001b[39;00m \u001b[38;5;129;01mnot\u001b[39;00m \u001b[38;5;28;01mNone\u001b[39;00m:\n\u001b[1;32m    478\u001b[0m         \u001b[38;5;28mself\u001b[39m\u001b[38;5;241m.\u001b[39mfile_stream\u001b[38;5;241m.\u001b[39mclose()\n",
      "\u001b[0;31mKeyboardInterrupt\u001b[0m: "
     ]
    }
   ],
   "source": [
    "trainer_under.fit(appa_model_under, train_loader_under, valid_loader_under)\n",
    "torch.save(appa_model_under,\"save/appa-under.pt\")\n"
   ]
  },
  {
   "cell_type": "code",
   "execution_count": 242,
   "id": "acd58803-d8e1-4cb1-afed-5544f5be0480",
   "metadata": {},
   "outputs": [],
   "source": [
    "test_model = APPAModel.load_from_checkpoint(checkpoint_callback_limit.best_model_path)"
   ]
  },
  {
   "cell_type": "code",
   "execution_count": 253,
   "id": "9bfb40af-6ca2-4c9d-88ff-9ab762827e5c",
   "metadata": {},
   "outputs": [
    {
     "ename": "TypeError",
     "evalue": "'APPAModel' object is not subscriptable",
     "output_type": "error",
     "traceback": [
      "\u001b[0;31m---------------------------------------------------------------------------\u001b[0m",
      "\u001b[0;31mTypeError\u001b[0m                                 Traceback (most recent call last)",
      "Cell \u001b[0;32mIn[253], line 1\u001b[0m\n\u001b[0;32m----> 1\u001b[0m test_model \u001b[38;5;241m=\u001b[39m \u001b[43mAPPAModel\u001b[49m\u001b[38;5;241;43m.\u001b[39;49m\u001b[43mload_from_checkpoint\u001b[49m\u001b[43m(\u001b[49m\u001b[38;5;124;43m\"\u001b[39;49m\u001b[38;5;124;43msave/appa-limit.pt\u001b[39;49m\u001b[38;5;124;43m\"\u001b[39;49m\u001b[43m)\u001b[49m\n",
      "File \u001b[0;32m/opt/conda/lib/python3.11/site-packages/pytorch_lightning/utilities/model_helpers.py:125\u001b[0m, in \u001b[0;36m_restricted_classmethod_impl.__get__.<locals>.wrapper\u001b[0;34m(*args, **kwargs)\u001b[0m\n\u001b[1;32m    120\u001b[0m \u001b[38;5;28;01mif\u001b[39;00m instance \u001b[38;5;129;01mis\u001b[39;00m \u001b[38;5;129;01mnot\u001b[39;00m \u001b[38;5;28;01mNone\u001b[39;00m \u001b[38;5;129;01mand\u001b[39;00m \u001b[38;5;129;01mnot\u001b[39;00m is_scripting:\n\u001b[1;32m    121\u001b[0m     \u001b[38;5;28;01mraise\u001b[39;00m \u001b[38;5;167;01mTypeError\u001b[39;00m(\n\u001b[1;32m    122\u001b[0m         \u001b[38;5;124mf\u001b[39m\u001b[38;5;124m\"\u001b[39m\u001b[38;5;124mThe classmethod `\u001b[39m\u001b[38;5;132;01m{\u001b[39;00m\u001b[38;5;28mcls\u001b[39m\u001b[38;5;241m.\u001b[39m\u001b[38;5;18m__name__\u001b[39m\u001b[38;5;132;01m}\u001b[39;00m\u001b[38;5;124m.\u001b[39m\u001b[38;5;132;01m{\u001b[39;00m\u001b[38;5;28mself\u001b[39m\u001b[38;5;241m.\u001b[39mmethod\u001b[38;5;241m.\u001b[39m\u001b[38;5;18m__name__\u001b[39m\u001b[38;5;132;01m}\u001b[39;00m\u001b[38;5;124m` cannot be called on an instance.\u001b[39m\u001b[38;5;124m\"\u001b[39m\n\u001b[1;32m    123\u001b[0m         \u001b[38;5;124m\"\u001b[39m\u001b[38;5;124m Please call it on the class type and make sure the return value is used.\u001b[39m\u001b[38;5;124m\"\u001b[39m\n\u001b[1;32m    124\u001b[0m     )\n\u001b[0;32m--> 125\u001b[0m \u001b[38;5;28;01mreturn\u001b[39;00m \u001b[38;5;28;43mself\u001b[39;49m\u001b[38;5;241;43m.\u001b[39;49m\u001b[43mmethod\u001b[49m\u001b[43m(\u001b[49m\u001b[38;5;28;43mcls\u001b[39;49m\u001b[43m,\u001b[49m\u001b[43m \u001b[49m\u001b[38;5;241;43m*\u001b[39;49m\u001b[43margs\u001b[49m\u001b[43m,\u001b[49m\u001b[43m \u001b[49m\u001b[38;5;241;43m*\u001b[39;49m\u001b[38;5;241;43m*\u001b[39;49m\u001b[43mkwargs\u001b[49m\u001b[43m)\u001b[49m\n",
      "File \u001b[0;32m/opt/conda/lib/python3.11/site-packages/pytorch_lightning/core/module.py:1586\u001b[0m, in \u001b[0;36mLightningModule.load_from_checkpoint\u001b[0;34m(cls, checkpoint_path, map_location, hparams_file, strict, **kwargs)\u001b[0m\n\u001b[1;32m   1497\u001b[0m \u001b[38;5;129m@_restricted_classmethod\u001b[39m\n\u001b[1;32m   1498\u001b[0m \u001b[38;5;28;01mdef\u001b[39;00m \u001b[38;5;21mload_from_checkpoint\u001b[39m(\n\u001b[1;32m   1499\u001b[0m     \u001b[38;5;28mcls\u001b[39m,\n\u001b[0;32m   (...)\u001b[0m\n\u001b[1;32m   1504\u001b[0m     \u001b[38;5;241m*\u001b[39m\u001b[38;5;241m*\u001b[39mkwargs: Any,\n\u001b[1;32m   1505\u001b[0m ) \u001b[38;5;241m-\u001b[39m\u001b[38;5;241m>\u001b[39m Self:\n\u001b[1;32m   1506\u001b[0m \u001b[38;5;250m    \u001b[39m\u001b[38;5;124mr\u001b[39m\u001b[38;5;124;03m\"\"\"Primary way of loading a model from a checkpoint. When Lightning saves a checkpoint it stores the arguments\u001b[39;00m\n\u001b[1;32m   1507\u001b[0m \u001b[38;5;124;03m    passed to ``__init__``  in the checkpoint under ``\"hyper_parameters\"``.\u001b[39;00m\n\u001b[1;32m   1508\u001b[0m \n\u001b[0;32m   (...)\u001b[0m\n\u001b[1;32m   1584\u001b[0m \n\u001b[1;32m   1585\u001b[0m \u001b[38;5;124;03m    \"\"\"\u001b[39;00m\n\u001b[0;32m-> 1586\u001b[0m     loaded \u001b[38;5;241m=\u001b[39m \u001b[43m_load_from_checkpoint\u001b[49m\u001b[43m(\u001b[49m\n\u001b[1;32m   1587\u001b[0m \u001b[43m        \u001b[49m\u001b[38;5;28;43mcls\u001b[39;49m\u001b[43m,\u001b[49m\u001b[43m  \u001b[49m\u001b[38;5;66;43;03m# type: ignore[arg-type]\u001b[39;49;00m\n\u001b[1;32m   1588\u001b[0m \u001b[43m        \u001b[49m\u001b[43mcheckpoint_path\u001b[49m\u001b[43m,\u001b[49m\n\u001b[1;32m   1589\u001b[0m \u001b[43m        \u001b[49m\u001b[43mmap_location\u001b[49m\u001b[43m,\u001b[49m\n\u001b[1;32m   1590\u001b[0m \u001b[43m        \u001b[49m\u001b[43mhparams_file\u001b[49m\u001b[43m,\u001b[49m\n\u001b[1;32m   1591\u001b[0m \u001b[43m        \u001b[49m\u001b[43mstrict\u001b[49m\u001b[43m,\u001b[49m\n\u001b[1;32m   1592\u001b[0m \u001b[43m        \u001b[49m\u001b[38;5;241;43m*\u001b[39;49m\u001b[38;5;241;43m*\u001b[39;49m\u001b[43mkwargs\u001b[49m\u001b[43m,\u001b[49m\n\u001b[1;32m   1593\u001b[0m \u001b[43m    \u001b[49m\u001b[43m)\u001b[49m\n\u001b[1;32m   1594\u001b[0m     \u001b[38;5;28;01mreturn\u001b[39;00m cast(Self, loaded)\n",
      "File \u001b[0;32m/opt/conda/lib/python3.11/site-packages/pytorch_lightning/core/saving.py:66\u001b[0m, in \u001b[0;36m_load_from_checkpoint\u001b[0;34m(cls, checkpoint_path, map_location, hparams_file, strict, **kwargs)\u001b[0m\n\u001b[1;32m     63\u001b[0m     checkpoint \u001b[38;5;241m=\u001b[39m pl_load(checkpoint_path, map_location\u001b[38;5;241m=\u001b[39mmap_location)\n\u001b[1;32m     65\u001b[0m \u001b[38;5;66;03m# convert legacy checkpoints to the new format\u001b[39;00m\n\u001b[0;32m---> 66\u001b[0m checkpoint \u001b[38;5;241m=\u001b[39m \u001b[43m_pl_migrate_checkpoint\u001b[49m\u001b[43m(\u001b[49m\n\u001b[1;32m     67\u001b[0m \u001b[43m    \u001b[49m\u001b[43mcheckpoint\u001b[49m\u001b[43m,\u001b[49m\u001b[43m \u001b[49m\u001b[43mcheckpoint_path\u001b[49m\u001b[38;5;241;43m=\u001b[39;49m\u001b[43m(\u001b[49m\u001b[43mcheckpoint_path\u001b[49m\u001b[43m \u001b[49m\u001b[38;5;28;43;01mif\u001b[39;49;00m\u001b[43m \u001b[49m\u001b[38;5;28;43misinstance\u001b[39;49m\u001b[43m(\u001b[49m\u001b[43mcheckpoint_path\u001b[49m\u001b[43m,\u001b[49m\u001b[43m \u001b[49m\u001b[43m(\u001b[49m\u001b[38;5;28;43mstr\u001b[39;49m\u001b[43m,\u001b[49m\u001b[43m \u001b[49m\u001b[43mPath\u001b[49m\u001b[43m)\u001b[49m\u001b[43m)\u001b[49m\u001b[43m \u001b[49m\u001b[38;5;28;43;01melse\u001b[39;49;00m\u001b[43m \u001b[49m\u001b[38;5;28;43;01mNone\u001b[39;49;00m\u001b[43m)\u001b[49m\n\u001b[1;32m     68\u001b[0m \u001b[43m\u001b[49m\u001b[43m)\u001b[49m\n\u001b[1;32m     70\u001b[0m \u001b[38;5;28;01mif\u001b[39;00m hparams_file \u001b[38;5;129;01mis\u001b[39;00m \u001b[38;5;129;01mnot\u001b[39;00m \u001b[38;5;28;01mNone\u001b[39;00m:\n\u001b[1;32m     71\u001b[0m     extension \u001b[38;5;241m=\u001b[39m \u001b[38;5;28mstr\u001b[39m(hparams_file)\u001b[38;5;241m.\u001b[39msplit(\u001b[38;5;124m\"\u001b[39m\u001b[38;5;124m.\u001b[39m\u001b[38;5;124m\"\u001b[39m)[\u001b[38;5;241m-\u001b[39m\u001b[38;5;241m1\u001b[39m]\n",
      "File \u001b[0;32m/opt/conda/lib/python3.11/site-packages/pytorch_lightning/utilities/migration/utils.py:143\u001b[0m, in \u001b[0;36m_pl_migrate_checkpoint\u001b[0;34m(checkpoint, checkpoint_path)\u001b[0m\n\u001b[1;32m    137\u001b[0m \u001b[38;5;28;01mdef\u001b[39;00m \u001b[38;5;21m_pl_migrate_checkpoint\u001b[39m(checkpoint: _CHECKPOINT, checkpoint_path: Optional[_PATH] \u001b[38;5;241m=\u001b[39m \u001b[38;5;28;01mNone\u001b[39;00m) \u001b[38;5;241m-\u001b[39m\u001b[38;5;241m>\u001b[39m _CHECKPOINT:\n\u001b[1;32m    138\u001b[0m \u001b[38;5;250m    \u001b[39m\u001b[38;5;124;03m\"\"\"Applies Lightning version migrations to a checkpoint dictionary and prints infos for the user.\u001b[39;00m\n\u001b[1;32m    139\u001b[0m \n\u001b[1;32m    140\u001b[0m \u001b[38;5;124;03m    This function is used by the Lightning Trainer when resuming from a checkpoint.\u001b[39;00m\n\u001b[1;32m    141\u001b[0m \n\u001b[1;32m    142\u001b[0m \u001b[38;5;124;03m    \"\"\"\u001b[39;00m\n\u001b[0;32m--> 143\u001b[0m     old_version \u001b[38;5;241m=\u001b[39m \u001b[43m_get_version\u001b[49m\u001b[43m(\u001b[49m\u001b[43mcheckpoint\u001b[49m\u001b[43m)\u001b[49m\n\u001b[1;32m    144\u001b[0m     checkpoint, migrations \u001b[38;5;241m=\u001b[39m migrate_checkpoint(checkpoint)\n\u001b[1;32m    145\u001b[0m     new_version \u001b[38;5;241m=\u001b[39m _get_version(checkpoint)\n",
      "File \u001b[0;32m/opt/conda/lib/python3.11/site-packages/pytorch_lightning/utilities/migration/utils.py:164\u001b[0m, in \u001b[0;36m_get_version\u001b[0;34m(checkpoint)\u001b[0m\n\u001b[1;32m    162\u001b[0m \u001b[38;5;28;01mdef\u001b[39;00m \u001b[38;5;21m_get_version\u001b[39m(checkpoint: _CHECKPOINT) \u001b[38;5;241m-\u001b[39m\u001b[38;5;241m>\u001b[39m \u001b[38;5;28mstr\u001b[39m:\n\u001b[1;32m    163\u001b[0m \u001b[38;5;250m    \u001b[39m\u001b[38;5;124;03m\"\"\"Get the version of a Lightning checkpoint.\"\"\"\u001b[39;00m\n\u001b[0;32m--> 164\u001b[0m     \u001b[38;5;28;01mreturn\u001b[39;00m \u001b[43mcheckpoint\u001b[49m\u001b[43m[\u001b[49m\u001b[38;5;124;43m\"\u001b[39;49m\u001b[38;5;124;43mpytorch-lightning_version\u001b[39;49m\u001b[38;5;124;43m\"\u001b[39;49m\u001b[43m]\u001b[49m\n",
      "\u001b[0;31mTypeError\u001b[0m: 'APPAModel' object is not subscriptable"
     ]
    }
   ],
   "source": [
    "test_model = APPAModel.load_from_checkpoint(\"save/appa-limit.pt\")"
   ]
  },
  {
   "cell_type": "code",
   "execution_count": 268,
   "id": "c584c78d-b481-498e-8246-e5bcf794db14",
   "metadata": {},
   "outputs": [],
   "source": [
    "test_model = torch.load(\"save/appa-max.pt\")"
   ]
  },
  {
   "cell_type": "code",
   "execution_count": 269,
   "id": "3b755f36-9495-4372-9527-1ad3c5e2e8e8",
   "metadata": {},
   "outputs": [],
   "source": [
    "total_corr = 0\n",
    "total_att = 0\n",
    "\n",
    "AP_corr = 0\n",
    "AP_att = 0\n",
    "\n",
    "PA_corr = 0\n",
    "PA_att = 0"
   ]
  },
  {
   "cell_type": "code",
   "execution_count": 270,
   "id": "135c47b6-5f17-45a0-9baa-b3ba992cd2e9",
   "metadata": {},
   "outputs": [
    {
     "data": {
      "text/plain": [
       "20000"
      ]
     },
     "execution_count": 270,
     "metadata": {},
     "output_type": "execute_result"
    }
   ],
   "source": [
    "len(test_loader_limit)"
   ]
  },
  {
   "cell_type": "code",
   "execution_count": 271,
   "id": "c9899804-78c1-41d7-a23b-d9d13de2c4bc",
   "metadata": {},
   "outputs": [
    {
     "name": "stdout",
     "output_type": "stream",
     "text": [
      "counter: 0\n",
      "counter: 1000\n"
     ]
    },
    {
     "name": "stderr",
     "output_type": "stream",
     "text": [
      "Exception ignored in: <function WeakSet.__init__.<locals>._remove at 0x7f24ebb10e00>\n",
      "Traceback (most recent call last):\n",
      "  File \"/opt/conda/lib/python3.11/_weakrefset.py\", line 39, in _remove\n",
      "    def _remove(item, selfref=ref(self)):\n",
      "\n",
      "KeyboardInterrupt: \n"
     ]
    },
    {
     "ename": "KeyboardInterrupt",
     "evalue": "",
     "output_type": "error",
     "traceback": [
      "\u001b[0;31m---------------------------------------------------------------------------\u001b[0m",
      "\u001b[0;31mKeyboardInterrupt\u001b[0m                         Traceback (most recent call last)",
      "Cell \u001b[0;32mIn[271], line 3\u001b[0m\n\u001b[1;32m      1\u001b[0m counter \u001b[38;5;241m=\u001b[39m \u001b[38;5;241m0\u001b[39m\n\u001b[0;32m----> 3\u001b[0m \u001b[38;5;28;43;01mfor\u001b[39;49;00m\u001b[43m \u001b[49m\u001b[43mbatch\u001b[49m\u001b[43m \u001b[49m\u001b[38;5;129;43;01min\u001b[39;49;00m\u001b[43m \u001b[49m\u001b[43mtest_loader_limit\u001b[49m\u001b[43m:\u001b[49m\n\u001b[1;32m      4\u001b[0m \u001b[43m    \u001b[49m\u001b[38;5;28;43;01mif\u001b[39;49;00m\u001b[43m \u001b[49m\u001b[43mcounter\u001b[49m\u001b[38;5;241;43m%\u001b[39;49m\u001b[38;5;241;43m1000\u001b[39;49m\u001b[43m \u001b[49m\u001b[38;5;241;43m==\u001b[39;49m\u001b[43m \u001b[49m\u001b[38;5;241;43m0\u001b[39;49m\u001b[43m:\u001b[49m\n\u001b[1;32m      5\u001b[0m \u001b[43m        \u001b[49m\u001b[38;5;28;43mprint\u001b[39;49m\u001b[43m(\u001b[49m\u001b[38;5;124;43m\"\u001b[39;49m\u001b[38;5;124;43mcounter:\u001b[39;49m\u001b[38;5;124;43m\"\u001b[39;49m\u001b[43m,\u001b[49m\u001b[43mcounter\u001b[49m\u001b[43m)\u001b[49m\n",
      "File \u001b[0;32m/opt/conda/lib/python3.11/site-packages/torch/utils/data/dataloader.py:631\u001b[0m, in \u001b[0;36m_BaseDataLoaderIter.__next__\u001b[0;34m(self)\u001b[0m\n\u001b[1;32m    628\u001b[0m \u001b[38;5;28;01mif\u001b[39;00m \u001b[38;5;28mself\u001b[39m\u001b[38;5;241m.\u001b[39m_sampler_iter \u001b[38;5;129;01mis\u001b[39;00m \u001b[38;5;28;01mNone\u001b[39;00m:\n\u001b[1;32m    629\u001b[0m     \u001b[38;5;66;03m# TODO(https://github.com/pytorch/pytorch/issues/76750)\u001b[39;00m\n\u001b[1;32m    630\u001b[0m     \u001b[38;5;28mself\u001b[39m\u001b[38;5;241m.\u001b[39m_reset()  \u001b[38;5;66;03m# type: ignore[call-arg]\u001b[39;00m\n\u001b[0;32m--> 631\u001b[0m data \u001b[38;5;241m=\u001b[39m \u001b[38;5;28;43mself\u001b[39;49m\u001b[38;5;241;43m.\u001b[39;49m\u001b[43m_next_data\u001b[49m\u001b[43m(\u001b[49m\u001b[43m)\u001b[49m\n\u001b[1;32m    632\u001b[0m \u001b[38;5;28mself\u001b[39m\u001b[38;5;241m.\u001b[39m_num_yielded \u001b[38;5;241m+\u001b[39m\u001b[38;5;241m=\u001b[39m \u001b[38;5;241m1\u001b[39m\n\u001b[1;32m    633\u001b[0m \u001b[38;5;28;01mif\u001b[39;00m \u001b[38;5;28mself\u001b[39m\u001b[38;5;241m.\u001b[39m_dataset_kind \u001b[38;5;241m==\u001b[39m _DatasetKind\u001b[38;5;241m.\u001b[39mIterable \u001b[38;5;129;01mand\u001b[39;00m \\\n\u001b[1;32m    634\u001b[0m         \u001b[38;5;28mself\u001b[39m\u001b[38;5;241m.\u001b[39m_IterableDataset_len_called \u001b[38;5;129;01mis\u001b[39;00m \u001b[38;5;129;01mnot\u001b[39;00m \u001b[38;5;28;01mNone\u001b[39;00m \u001b[38;5;129;01mand\u001b[39;00m \\\n\u001b[1;32m    635\u001b[0m         \u001b[38;5;28mself\u001b[39m\u001b[38;5;241m.\u001b[39m_num_yielded \u001b[38;5;241m>\u001b[39m \u001b[38;5;28mself\u001b[39m\u001b[38;5;241m.\u001b[39m_IterableDataset_len_called:\n",
      "File \u001b[0;32m/opt/conda/lib/python3.11/site-packages/torch/utils/data/dataloader.py:675\u001b[0m, in \u001b[0;36m_SingleProcessDataLoaderIter._next_data\u001b[0;34m(self)\u001b[0m\n\u001b[1;32m    673\u001b[0m \u001b[38;5;28;01mdef\u001b[39;00m \u001b[38;5;21m_next_data\u001b[39m(\u001b[38;5;28mself\u001b[39m):\n\u001b[1;32m    674\u001b[0m     index \u001b[38;5;241m=\u001b[39m \u001b[38;5;28mself\u001b[39m\u001b[38;5;241m.\u001b[39m_next_index()  \u001b[38;5;66;03m# may raise StopIteration\u001b[39;00m\n\u001b[0;32m--> 675\u001b[0m     data \u001b[38;5;241m=\u001b[39m \u001b[38;5;28;43mself\u001b[39;49m\u001b[38;5;241;43m.\u001b[39;49m\u001b[43m_dataset_fetcher\u001b[49m\u001b[38;5;241;43m.\u001b[39;49m\u001b[43mfetch\u001b[49m\u001b[43m(\u001b[49m\u001b[43mindex\u001b[49m\u001b[43m)\u001b[49m  \u001b[38;5;66;03m# may raise StopIteration\u001b[39;00m\n\u001b[1;32m    676\u001b[0m     \u001b[38;5;28;01mif\u001b[39;00m \u001b[38;5;28mself\u001b[39m\u001b[38;5;241m.\u001b[39m_pin_memory:\n\u001b[1;32m    677\u001b[0m         data \u001b[38;5;241m=\u001b[39m _utils\u001b[38;5;241m.\u001b[39mpin_memory\u001b[38;5;241m.\u001b[39mpin_memory(data, \u001b[38;5;28mself\u001b[39m\u001b[38;5;241m.\u001b[39m_pin_memory_device)\n",
      "File \u001b[0;32m/opt/conda/lib/python3.11/site-packages/torch/utils/data/_utils/fetch.py:53\u001b[0m, in \u001b[0;36m_MapDatasetFetcher.fetch\u001b[0;34m(self, possibly_batched_index)\u001b[0m\n\u001b[1;32m     51\u001b[0m         data \u001b[38;5;241m=\u001b[39m [\u001b[38;5;28mself\u001b[39m\u001b[38;5;241m.\u001b[39mdataset[idx] \u001b[38;5;28;01mfor\u001b[39;00m idx \u001b[38;5;129;01min\u001b[39;00m possibly_batched_index]\n\u001b[1;32m     52\u001b[0m \u001b[38;5;28;01melse\u001b[39;00m:\n\u001b[0;32m---> 53\u001b[0m     data \u001b[38;5;241m=\u001b[39m \u001b[38;5;28;43mself\u001b[39;49m\u001b[38;5;241;43m.\u001b[39;49m\u001b[43mdataset\u001b[49m\u001b[43m[\u001b[49m\u001b[43mpossibly_batched_index\u001b[49m\u001b[43m]\u001b[49m\n\u001b[1;32m     54\u001b[0m \u001b[38;5;28;01mreturn\u001b[39;00m \u001b[38;5;28mself\u001b[39m\u001b[38;5;241m.\u001b[39mcollate_fn(data)\n",
      "Cell \u001b[0;32mIn[168], line 90\u001b[0m, in \u001b[0;36mAPPAClassifierDataset.__getitem__\u001b[0;34m(self, idx)\u001b[0m\n\u001b[1;32m     88\u001b[0m \u001b[38;5;28;01mdef\u001b[39;00m \u001b[38;5;21m__getitem__\u001b[39m(\u001b[38;5;28mself\u001b[39m, idx):\n\u001b[0;32m---> 90\u001b[0m     batch \u001b[38;5;241m=\u001b[39m \u001b[38;5;28;43mself\u001b[39;49m\u001b[38;5;241;43m.\u001b[39;49m\u001b[43mgenerate_train_batch\u001b[49m\u001b[43m(\u001b[49m\u001b[43midx\u001b[49m\u001b[43m)\u001b[49m\n\u001b[1;32m     92\u001b[0m     batch[\u001b[38;5;124m\"\u001b[39m\u001b[38;5;124mdata\u001b[39m\u001b[38;5;124m\"\u001b[39m] \u001b[38;5;241m=\u001b[39m np\u001b[38;5;241m.\u001b[39mexpand_dims(batch[\u001b[38;5;124m\"\u001b[39m\u001b[38;5;124mdata\u001b[39m\u001b[38;5;124m\"\u001b[39m], axis\u001b[38;5;241m=\u001b[39m\u001b[38;5;241m1\u001b[39m)\n\u001b[1;32m     93\u001b[0m     \u001b[38;5;66;03m#batch[\"target\"] = np.expand_dims(batch[\"target\"], axis=1)\u001b[39;00m\n",
      "Cell \u001b[0;32mIn[168], line 71\u001b[0m, in \u001b[0;36mAPPAClassifierDataset.generate_train_batch\u001b[0;34m(self, idx)\u001b[0m\n\u001b[1;32m     68\u001b[0m labels \u001b[38;5;241m=\u001b[39m []\n\u001b[1;32m     70\u001b[0m \u001b[38;5;28;01mfor\u001b[39;00m i \u001b[38;5;129;01min\u001b[39;00m \u001b[38;5;28mrange\u001b[39m(\u001b[38;5;28mself\u001b[39m\u001b[38;5;241m.\u001b[39mbatch_size):\n\u001b[0;32m---> 71\u001b[0m     sample \u001b[38;5;241m=\u001b[39m \u001b[38;5;28;43mself\u001b[39;49m\u001b[38;5;241;43m.\u001b[39;49m\u001b[43mutil_getitem\u001b[49m\u001b[43m(\u001b[49m\u001b[43m(\u001b[49m\u001b[43mi\u001b[49m\u001b[38;5;241;43m+\u001b[39;49m\u001b[43mstart\u001b[49m\u001b[43m)\u001b[49m\u001b[38;5;241;43m%\u001b[39;49m\u001b[38;5;28;43mself\u001b[39;49m\u001b[38;5;241;43m.\u001b[39;49m\u001b[43mnum_samples\u001b[49m\u001b[43m)\u001b[49m\n\u001b[1;32m     73\u001b[0m     images\u001b[38;5;241m.\u001b[39mappend(sample[\u001b[38;5;124m\"\u001b[39m\u001b[38;5;124mimage\u001b[39m\u001b[38;5;124m\"\u001b[39m])\n\u001b[1;32m     74\u001b[0m     labels\u001b[38;5;241m.\u001b[39mappend(sample[\u001b[38;5;124m\"\u001b[39m\u001b[38;5;124mlabel\u001b[39m\u001b[38;5;124m\"\u001b[39m])\n",
      "Cell \u001b[0;32mIn[168], line 42\u001b[0m, in \u001b[0;36mAPPAClassifierDataset.util_getitem\u001b[0;34m(self, idx)\u001b[0m\n\u001b[1;32m     39\u001b[0m \u001b[38;5;28;01mif\u001b[39;00m torch\u001b[38;5;241m.\u001b[39mis_tensor(idx):\n\u001b[1;32m     40\u001b[0m     idx \u001b[38;5;241m=\u001b[39m idx\u001b[38;5;241m.\u001b[39mtolist()\n\u001b[0;32m---> 42\u001b[0m image \u001b[38;5;241m=\u001b[39m \u001b[38;5;28;43mself\u001b[39;49m\u001b[38;5;241;43m.\u001b[39;49m\u001b[43mget_image_with_idx\u001b[49m\u001b[43m(\u001b[49m\u001b[43midx\u001b[49m\u001b[43m)\u001b[49m\n\u001b[1;32m     44\u001b[0m \u001b[38;5;66;03m#label is in form [Laterality, AP, PA]\u001b[39;00m\n\u001b[1;32m     45\u001b[0m label \u001b[38;5;241m=\u001b[39m np\u001b[38;5;241m.\u001b[39marray([\u001b[38;5;28mself\u001b[39m\u001b[38;5;241m.\u001b[39mdf\u001b[38;5;241m.\u001b[39miloc[idx][\u001b[38;5;124m\"\u001b[39m\u001b[38;5;124mAP\u001b[39m\u001b[38;5;124m\"\u001b[39m],\u001b[38;5;28mself\u001b[39m\u001b[38;5;241m.\u001b[39mdf\u001b[38;5;241m.\u001b[39miloc[idx][\u001b[38;5;124m\"\u001b[39m\u001b[38;5;124mPA\u001b[39m\u001b[38;5;124m\"\u001b[39m]])\n",
      "Cell \u001b[0;32mIn[168], line 34\u001b[0m, in \u001b[0;36mAPPAClassifierDataset.get_image_with_idx\u001b[0;34m(self, idx)\u001b[0m\n\u001b[1;32m     32\u001b[0m image \u001b[38;5;241m=\u001b[39m np\u001b[38;5;241m.\u001b[39marray(image, dtype\u001b[38;5;241m=\u001b[39m\u001b[38;5;28mfloat\u001b[39m)\n\u001b[1;32m     33\u001b[0m image \u001b[38;5;241m=\u001b[39m (image\u001b[38;5;241m-\u001b[39mnp\u001b[38;5;241m.\u001b[39mmin(image))\u001b[38;5;241m/\u001b[39m(np\u001b[38;5;241m.\u001b[39mmax(image)\u001b[38;5;241m-\u001b[39mnp\u001b[38;5;241m.\u001b[39mmin(image))\n\u001b[0;32m---> 34\u001b[0m image \u001b[38;5;241m=\u001b[39m \u001b[43mcv2\u001b[49m\u001b[38;5;241;43m.\u001b[39;49m\u001b[43mresize\u001b[49m\u001b[43m(\u001b[49m\u001b[43mimage\u001b[49m\u001b[43m,\u001b[49m\u001b[43m \u001b[49m\u001b[38;5;28;43mself\u001b[39;49m\u001b[38;5;241;43m.\u001b[39;49m\u001b[43mimg_shape\u001b[49m\u001b[43m)\u001b[49m\n\u001b[1;32m     36\u001b[0m \u001b[38;5;28;01mreturn\u001b[39;00m image\n",
      "\u001b[0;31mKeyboardInterrupt\u001b[0m: "
     ]
    }
   ],
   "source": [
    "counter = 0\n",
    "\n",
    "for batch in test_loader_limit:\n",
    "    if counter%1000 == 0:\n",
    "        print(\"counter:\",counter)\n",
    "\n",
    "    counter += 1\n",
    "    \n",
    "    x,y = batch\n",
    "    x = x.to(device)\n",
    "    y = y.to(device)\n",
    "    \n",
    "    outputs = test_model(x)\n",
    "\n",
    "    outputs = outputs.cpu().detach()\n",
    "    y = y.cpu().detach()\n",
    "\n",
    "    for ins in zip(outputs, y):\n",
    "        pred, tar = ins\n",
    "\n",
    "        if(np.argmax(pred) == np.argmax(tar)):\n",
    "            if np.argmax(tar) == 0:\n",
    "                AP_corr += 1\n",
    "                AP_att += 1\n",
    "            else:\n",
    "                PA_corr += 1\n",
    "                PA_att += 1\n",
    "        else:\n",
    "            if np.argmax(tar) == 0:\n",
    "                AP_att += 1\n",
    "            else:\n",
    "                PA_att += 1"
   ]
  },
  {
   "cell_type": "code",
   "execution_count": 272,
   "id": "399df8e3-c350-4535-a724-d8d87c347807",
   "metadata": {},
   "outputs": [
    {
     "name": "stdout",
     "output_type": "stream",
     "text": [
      "0.9839653444541429\n"
     ]
    }
   ],
   "source": [
    "print(AP_corr/AP_att)"
   ]
  },
  {
   "cell_type": "code",
   "execution_count": 273,
   "id": "174859cd-d743-4445-803f-d5717cb8bb56",
   "metadata": {},
   "outputs": [
    {
     "name": "stdout",
     "output_type": "stream",
     "text": [
      "0.9422006821037515\n"
     ]
    }
   ],
   "source": [
    "print(PA_corr/PA_att)"
   ]
  },
  {
   "cell_type": "code",
   "execution_count": null,
   "id": "bf2ebc89-44b4-4fba-a966-e3dbc3f90212",
   "metadata": {},
   "outputs": [],
   "source": []
  }
 ],
 "metadata": {
  "kernelspec": {
   "display_name": "Python 3 (ipykernel)",
   "language": "python",
   "name": "python3"
  },
  "language_info": {
   "codemirror_mode": {
    "name": "ipython",
    "version": 3
   },
   "file_extension": ".py",
   "mimetype": "text/x-python",
   "name": "python",
   "nbconvert_exporter": "python",
   "pygments_lexer": "ipython3",
   "version": "3.12.1"
  }
 },
 "nbformat": 4,
 "nbformat_minor": 5
}
